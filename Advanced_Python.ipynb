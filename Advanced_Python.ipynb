{
  "nbformat": 4,
  "nbformat_minor": 0,
  "metadata": {
    "colab": {
      "provenance": [],
      "authorship_tag": "ABX9TyNOC/TwtYxRpGnJMtL5SW+q",
      "include_colab_link": true
    },
    "kernelspec": {
      "name": "python3",
      "display_name": "Python 3"
    },
    "language_info": {
      "name": "python"
    }
  },
  "cells": [
    {
      "cell_type": "markdown",
      "metadata": {
        "id": "view-in-github",
        "colab_type": "text"
      },
      "source": [
        "<a href=\"https://colab.research.google.com/github/Ishan-Grover/Advance-Python/blob/main/Advanced_Python.ipynb\" target=\"_parent\"><img src=\"https://colab.research.google.com/assets/colab-badge.svg\" alt=\"Open In Colab\"/></a>"
      ]
    },
    {
      "cell_type": "markdown",
      "source": [
        "**Advance Python Assignments**"
      ],
      "metadata": {
        "id": "atP9DSIFQcXj"
      }
    },
    {
      "cell_type": "markdown",
      "source": [
        "Part I: Process Automation\n"
      ],
      "metadata": {
        "id": "e2YyaDw3Qjsy"
      }
    },
    {
      "cell_type": "markdown",
      "source": [
        " Q1. Create a file that contains 1000 lines of random strings"
      ],
      "metadata": {
        "id": "TAQl8VUjQst7"
      }
    },
    {
      "cell_type": "code",
      "source": [
        "import random as r\n",
        "import string as s\n",
        "b = (''.join(r.sample(s.ascii_letters + s.digits, 10)) for i in range(1000))\n",
        "file=open(\"random_strings.txt\",'w')\n",
        "file.write('\\n'.join(b))\n",
        "file.close()\n",
        "print(f\"File '{file}' with 1000 random strings has been created.\")"
      ],
      "metadata": {
        "colab": {
          "base_uri": "https://localhost:8080/"
        },
        "id": "N4dwaLl2Qxyg",
        "outputId": "24ac61ac-6e14-4412-b133-8dd7ae01f398"
      },
      "execution_count": 1,
      "outputs": [
        {
          "output_type": "stream",
          "name": "stdout",
          "text": [
            "File '<_io.TextIOWrapper name='random_strings.txt' mode='w' encoding='UTF-8'>' with 1000 random strings has been created.\n"
          ]
        }
      ]
    },
    {
      "cell_type": "markdown",
      "source": [
        "Q2. Create a file that contains multiple lines of random strings and file size must be 5 MB."
      ],
      "metadata": {
        "id": "GbvpUZemRd3q"
      }
    },
    {
      "cell_type": "code",
      "source": [
        "import random as r\n",
        "import string as s\n",
        "letters = s.ascii_lowercase\n",
        "b= (''.join(r.choice(letters) for x in range(10)))\n",
        "file=open(\"one.txt\",'w')\n",
        "target_Size = 5 * 1024 * 1024\n",
        "file_size = 0\n",
        "while file_size < target_Size:\n",
        "        file.write(b + '\\n')\n",
        "        file_size = file.tell()\n",
        "print(\"Done\")\n",
        "file.close()"
      ],
      "metadata": {
        "colab": {
          "base_uri": "https://localhost:8080/"
        },
        "id": "w-KDIUcaRep9",
        "outputId": "fb99b89c-57cc-4045-a0f3-a5b471c898c3"
      },
      "execution_count": 2,
      "outputs": [
        {
          "output_type": "stream",
          "name": "stdout",
          "text": [
            "Done\n"
          ]
        }
      ]
    },
    {
      "cell_type": "markdown",
      "source": [
        "Q3. Create 10 files that contains multiple lines of random strings and file size of each file must be 5 MB."
      ],
      "metadata": {
        "id": "vdVRLSo_RzBy"
      }
    },
    {
      "cell_type": "code",
      "source": [
        "import random as r\n",
        "import string as s\n",
        "a=s.ascii_letters+s.digits\n",
        "b=(''.join(r.sample(a,10)))\n",
        "print(b)\n",
        "target_size=5*1024*1024\n",
        "file_size=0\n",
        "\n",
        "L=['f1','f2','f3','f4','f5','f6','f7','f8','f9','f10']\n",
        "for i in range(len(L)):\n",
        "    L[i]=open(f\" {i} .txt\",'w')\n",
        "    while file_size<target_size:\n",
        "        L[i].write(b+'/n')\n",
        "        file_size=L[i].tell()\n",
        "    L[i].close()\n",
        "    file_size=0\n",
        "    print(\"closed\",L[i])"
      ],
      "metadata": {
        "colab": {
          "base_uri": "https://localhost:8080/"
        },
        "id": "p3bMaeOIR5kl",
        "outputId": "7cee3723-ce12-47fb-9adb-5f02510e2894"
      },
      "execution_count": 3,
      "outputs": [
        {
          "output_type": "stream",
          "name": "stdout",
          "text": [
            "0jr3dQGveh\n",
            "closed <_io.TextIOWrapper name=' 0 .txt' mode='w' encoding='UTF-8'>\n",
            "closed <_io.TextIOWrapper name=' 1 .txt' mode='w' encoding='UTF-8'>\n",
            "closed <_io.TextIOWrapper name=' 2 .txt' mode='w' encoding='UTF-8'>\n",
            "closed <_io.TextIOWrapper name=' 3 .txt' mode='w' encoding='UTF-8'>\n",
            "closed <_io.TextIOWrapper name=' 4 .txt' mode='w' encoding='UTF-8'>\n",
            "closed <_io.TextIOWrapper name=' 5 .txt' mode='w' encoding='UTF-8'>\n",
            "closed <_io.TextIOWrapper name=' 6 .txt' mode='w' encoding='UTF-8'>\n",
            "closed <_io.TextIOWrapper name=' 7 .txt' mode='w' encoding='UTF-8'>\n",
            "closed <_io.TextIOWrapper name=' 8 .txt' mode='w' encoding='UTF-8'>\n",
            "closed <_io.TextIOWrapper name=' 9 .txt' mode='w' encoding='UTF-8'>\n"
          ]
        }
      ]
    },
    {
      "cell_type": "markdown",
      "source": [
        "Q4. Create 5 files of size 1GB, 2GB, 3GB, 4GB and 5GB; file contains multiple lines of random strings."
      ],
      "metadata": {
        "id": "rShNq7-MTjuS"
      }
    },
    {
      "cell_type": "code",
      "source": [
        "import random as r\n",
        "import string as s\n",
        "a=s.ascii_letters+s.digits\n",
        "b=(''.join(r.sample(a,10)))\n",
        "f1=open(\"one.txt\",'w')\n",
        "f2=open(\"two.txt\",'w')\n",
        "f3=open(\"three.txt\",'w')\n",
        "f4=open(\"four.txt\",'w')\n",
        "f5=open(\"five.txt\",'w')\n",
        "target_n=0\n",
        "def size_T(n):\n",
        "    target_n=n*1024*1024\n",
        "    print(f\"target_{n} is: \",target_n)\n",
        "file_size=0\n",
        "L=['f1','f2','f3','f4','f5']\n",
        "for i in range(len(L)):\n",
        "    L[i]=open(f\"{i}.txt\",'w')\n",
        "    size_T(i)\n",
        "    while file_size<target_n:\n",
        "        L[i].write(b+'\\n')\n",
        "        file_size=L[i].tell\n",
        "    L[i].close()\n",
        "    file_size=0\n",
        "    print(\"closed\",L[i])\n",
        "f1.close()\n",
        "f2.close()\n",
        "f3.close()\n",
        "f4.close()\n",
        "f5.close()"
      ],
      "metadata": {
        "colab": {
          "base_uri": "https://localhost:8080/"
        },
        "id": "uPGtow89To9k",
        "outputId": "ffbaad78-f2b1-4a5f-f11f-af5a0f3b1f92"
      },
      "execution_count": 4,
      "outputs": [
        {
          "output_type": "stream",
          "name": "stdout",
          "text": [
            "target_0 is:  0\n",
            "closed <_io.TextIOWrapper name='0.txt' mode='w' encoding='UTF-8'>\n",
            "target_1 is:  1048576\n",
            "closed <_io.TextIOWrapper name='1.txt' mode='w' encoding='UTF-8'>\n",
            "target_2 is:  2097152\n",
            "closed <_io.TextIOWrapper name='2.txt' mode='w' encoding='UTF-8'>\n",
            "target_3 is:  3145728\n",
            "closed <_io.TextIOWrapper name='3.txt' mode='w' encoding='UTF-8'>\n",
            "target_4 is:  4194304\n",
            "closed <_io.TextIOWrapper name='4.txt' mode='w' encoding='UTF-8'>\n"
          ]
        }
      ]
    },
    {
      "cell_type": "markdown",
      "source": [
        "Q5. Convert all the files of Q4 into upper case one by one.\n"
      ],
      "metadata": {
        "id": "TSXbNIoVUDb4"
      }
    },
    {
      "cell_type": "code",
      "source": [
        "#Convert all the files of Q4 into upper case one by one.\n",
        "import random as r\n",
        "import string as s\n",
        "a=s.ascii_letters+s.digits\n",
        "b=(''.join(r.sample(a,10)))\n",
        "L=['f1','f2','f3','f4','f5']\n",
        "for i in range(len(L)):\n",
        "    L[i]=open(f\"{i}.txt\")#open in read mode\n",
        "    for line in L[i]:\n",
        "        L[i].write(line.upper())\n",
        "    print(\"Lines converted to upper case\")\n",
        "    L[i].close()"
      ],
      "metadata": {
        "colab": {
          "base_uri": "https://localhost:8080/"
        },
        "id": "baDXkZlOUG4x",
        "outputId": "959c82ee-a6d5-4528-eac8-26b81ce9106d"
      },
      "execution_count": 5,
      "outputs": [
        {
          "output_type": "stream",
          "name": "stdout",
          "text": [
            "Lines converted to upper case\n",
            "Lines converted to upper case\n",
            "Lines converted to upper case\n",
            "Lines converted to upper case\n",
            "Lines converted to upper case\n"
          ]
        }
      ]
    },
    {
      "cell_type": "markdown",
      "source": [
        "Q6. Convert all the files of Q4 into upper case parallel using multi-threading.\n"
      ],
      "metadata": {
        "id": "puUdkJthUWAD"
      }
    },
    {
      "cell_type": "code",
      "source": [],
      "metadata": {
        "id": "5PIOeuhXUaUb"
      },
      "execution_count": null,
      "outputs": []
    }
  ]
}